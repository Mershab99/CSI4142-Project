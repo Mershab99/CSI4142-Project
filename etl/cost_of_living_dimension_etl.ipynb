{
 "cells": [
  {
   "cell_type": "code",
   "execution_count": null,
   "metadata": {},
   "outputs": [],
   "source": [
    "import pandas as pd\n",
    "import clickhouse_connect\n",
    "\n",
    "pd.options.display.max_columns = None\n",
    "pd.options.display.max_rows = None\n",
    "pd.options.display.width = None\n",
    "pd.set_option('display.max_rows', 100)\n",
    "pd.set_option('display.min_rows', 20)"
   ]
  },
  {
   "cell_type": "code",
   "execution_count": null,
   "metadata": {},
   "outputs": [],
   "source": [
    "# 10 x 5\n",
    "states = [\"Alabama\", \"Alaska\", \"Arizona\", \"Arkansas\", \"California\", \"Colorado\", \"Connecticut\", \"Delaware\", \"Florida\", \"Georgia\",\n",
    "            \"Hawaii\", \"Idaho\", \"Illinois\", \"Indiana\", \"Iowa\", \"Kansas\", \"Kentucky\", \"Louisiana\", \"Maine\", \"Maryland\",\n",
    "            \"Massachusetts\", \"Michigan\", \"Minnesota\", \"Mississippi\", \"Missouri\", \"Montana\", \"Nebraska\", \"Nevada\", \"New Hampshire\", \"New Jersey\",\n",
    "            \"New Mexico\", \"New York\", \"North Carolina\", \"North Dakota\", \"Ohio\", \"Oklahoma\", \"Oregon\", \"Pennsylvania\", \"Rhode Island\", \"South Carolina\",\n",
    "            \"South Dakota\", \"Tennessee\", \"Texas\", \"Utah\", \"Vermont\", \"Virginia\", \"Washington\", \"West Virginia\", \"Wisconsin\", \"Wyoming\"]\n",
    "\n",
    "CLICKHOUSE_CLOUD_HOSTNAME = 'csi4142-clickhouse.mershab.xyz'\n",
    "CLICKHOUSE_CLOUD_USER = 'csi'\n",
    "CLICKHOUSE_CLOUD_PASSWORD = 'iceberg'\n",
    "\n",
    "TABLE_NAME1 = 'cost_of_living_dimension_table_test'\n",
    "TABLE_NAME2 = 'income_dimension_table_test'"
   ]
  },
  {
   "cell_type": "code",
   "execution_count": null,
   "metadata": {},
   "outputs": [],
   "source": [
    "# Yearly Median Household Income (USD) by State from 1984 - 2022\n",
    "\n",
    "df_list_income = []\n",
    "single_ticker_df = {}\n",
    "for state in states:\n",
    "    temp_df = pd.DataFrame(pd.read_csv(f\"../data/income_data/{state}Income.csv\")) #, parse_dates=['datetime']\n",
    "    \n",
    "    temp_df.columns.values[1] = \"Median Household Income in USD\"\n",
    "    temp_df = temp_df.rename(columns={\"DATE\": \"Year\"})\n",
    "\n",
    "    temp_df['Year'] = pd.DatetimeIndex(temp_df['Year']).year\n",
    "    temp_df['State'] = state\n",
    "    df_list_income.append(temp_df) \n",
    "\n",
    "\n",
    "df_list_income"
   ]
  },
  {
   "cell_type": "code",
   "execution_count": null,
   "metadata": {},
   "outputs": [],
   "source": [
    "# Data for Cost of Living Index runs from 1960-2003, 2016-2017, 2019-2023\n",
    "# Data for Cost of Living Index unavailable for certain states prior to 2016 (Hawaii, Alaska)\n",
    "\n",
    "# \"location\",\"indicator\",\"Unit\",\"Date\",\"Value\"\n",
    "\n",
    "# Data for Indicators (\"Housing\", \"Groceries\", \"Utilities\", \"Transportation\", \"Miscellaneous\", \"Health Care\") from 2017, 2019-2023\n",
    "\n",
    "df_list_col = []\n",
    "single_ticker_df = {}\n",
    "\n",
    "temp_df = pd.DataFrame(pd.read_csv(f\"../data/cost_of_living_data/cost_of_living_data.csv\"))\n",
    "temp_df = temp_df.drop(columns=['Unit'])\n",
    "temp_df = temp_df.rename(columns={\"Date\": \"Year\", \"Value\": \"Cost of Living Index\", \"location\": \"State\", \"indicator\": \"Indicator\"})\n",
    "\n",
    "temp_df['Year'] = pd.DatetimeIndex(temp_df['Year']).year\n",
    "df_list_col.append(temp_df) \n",
    "\n",
    "df_list_col"
   ]
  },
  {
   "cell_type": "code",
   "execution_count": null,
   "metadata": {},
   "outputs": [],
   "source": [
    "df_income = pd.concat(df_list_income)\n",
    "\n",
    "df_income"
   ]
  },
  {
   "cell_type": "code",
   "execution_count": null,
   "metadata": {},
   "outputs": [],
   "source": [
    "df_col = pd.concat(df_list_col)\n",
    "\n",
    "df_col"
   ]
  },
  {
   "cell_type": "code",
   "execution_count": 10,
   "metadata": {},
   "outputs": [
    {
     "name": "stdout",
     "output_type": "stream",
     "text": [
      "State                    object\n",
      "Indicator                object\n",
      "Year                      int32\n",
      "Cost of Living Index    float64\n",
      "dtype: object\n",
      "Year                               int32\n",
      "Median Household Income in USD     int64\n",
      "State                             object\n",
      "dtype: object\n"
     ]
    }
   ],
   "source": [
    "print(df_col.dtypes)\n",
    "print(df_income.dtypes)"
   ]
  },
  {
   "cell_type": "code",
   "execution_count": null,
   "metadata": {},
   "outputs": [],
   "source": [
    "client = clickhouse_connect.get_client(host=CLICKHOUSE_CLOUD_HOSTNAME, port=443, user=CLICKHOUSE_CLOUD_USER, password=CLICKHOUSE_CLOUD_PASSWORD,database='default')\n",
    "\n",
    "print(client.ping())\n",
    "print(\"connected to \" + CLICKHOUSE_CLOUD_HOSTNAME + \"\\n\")"
   ]
  },
  {
   "cell_type": "code",
   "execution_count": 16,
   "metadata": {},
   "outputs": [
    {
     "ename": "DatabaseError",
     "evalue": ":HTTPDriver for https://csi4142-clickhouse.mershab.xyz:443 returned response code 400)\n Code: 62. DB::Exception: Syntax error: failed at position 179 (')') (line 7, col 1): ) ENGINE = MergeTree()\n. Expected one of: lambda expression, CAST operator, NOT, INTERVAL, CASE, DATE, TIMESTAMP, tuple, collection of literals, array, number, literal, NULL, Bool, true, false, string literal, asterisk, qualified asterisk, compound identifier, list of elements, identifier, COLUMNS matcher, COLUMNS, qualified COLUMNS matcher, substitution, MySQL-style global variable. (SYNTAX_ERROR) (version 24.2.2.71 (official build))\n",
     "output_type": "error",
     "traceback": [
      "\u001b[1;31m---------------------------------------------------------------------------\u001b[0m",
      "\u001b[1;31mDatabaseError\u001b[0m                             Traceback (most recent call last)",
      "Cell \u001b[1;32mIn[16], line 12\u001b[0m\n\u001b[0;32m      2\u001b[0m create_table_query \u001b[38;5;241m=\u001b[39m \u001b[38;5;124mf\u001b[39m\u001b[38;5;124m\"\"\"\u001b[39m\n\u001b[0;32m      3\u001b[0m \u001b[38;5;124mCREATE TABLE IF NOT EXISTS \u001b[39m\u001b[38;5;132;01m{\u001b[39;00mTABLE_NAME2\u001b[38;5;132;01m}\u001b[39;00m\u001b[38;5;124m (\u001b[39m\n\u001b[0;32m      4\u001b[0m \u001b[38;5;124m        State         String,\u001b[39m\n\u001b[1;32m   (...)\u001b[0m\n\u001b[0;32m      8\u001b[0m \u001b[38;5;124m) ENGINE = MergeTree()\u001b[39m\n\u001b[0;32m      9\u001b[0m \u001b[38;5;124m\"\"\"\u001b[39m\n\u001b[0;32m     11\u001b[0m \u001b[38;5;66;03m#client.command(f'DROP TABLE IF EXISTS {TABLE_NAME}')\u001b[39;00m\n\u001b[1;32m---> 12\u001b[0m \u001b[43mclient\u001b[49m\u001b[38;5;241;43m.\u001b[39;49m\u001b[43mcommand\u001b[49m\u001b[43m(\u001b[49m\u001b[43mcreate_table_query\u001b[49m\u001b[43m)\u001b[49m\n",
      "File \u001b[1;32mc:\\Users\\arthu\\AppData\\Local\\Programs\\Python\\Python312\\Lib\\site-packages\\clickhouse_connect\\driver\\httpclient.py:335\u001b[0m, in \u001b[0;36mHttpClient.command\u001b[1;34m(self, cmd, parameters, data, settings, use_database, external_data)\u001b[0m\n\u001b[0;32m    332\u001b[0m params\u001b[38;5;241m.\u001b[39mupdate(\u001b[38;5;28mself\u001b[39m\u001b[38;5;241m.\u001b[39m_validate_settings(settings \u001b[38;5;129;01mor\u001b[39;00m {}))\n\u001b[0;32m    334\u001b[0m method \u001b[38;5;241m=\u001b[39m \u001b[38;5;124m'\u001b[39m\u001b[38;5;124mPOST\u001b[39m\u001b[38;5;124m'\u001b[39m \u001b[38;5;28;01mif\u001b[39;00m payload \u001b[38;5;129;01mor\u001b[39;00m fields \u001b[38;5;28;01melse\u001b[39;00m \u001b[38;5;124m'\u001b[39m\u001b[38;5;124mGET\u001b[39m\u001b[38;5;124m'\u001b[39m\n\u001b[1;32m--> 335\u001b[0m response \u001b[38;5;241m=\u001b[39m \u001b[38;5;28;43mself\u001b[39;49m\u001b[38;5;241;43m.\u001b[39;49m\u001b[43m_raw_request\u001b[49m\u001b[43m(\u001b[49m\u001b[43mpayload\u001b[49m\u001b[43m,\u001b[49m\u001b[43m \u001b[49m\u001b[43mparams\u001b[49m\u001b[43m,\u001b[49m\u001b[43m \u001b[49m\u001b[43mheaders\u001b[49m\u001b[43m,\u001b[49m\u001b[43m \u001b[49m\u001b[43mmethod\u001b[49m\u001b[43m,\u001b[49m\u001b[43m \u001b[49m\u001b[43mfields\u001b[49m\u001b[38;5;241;43m=\u001b[39;49m\u001b[43mfields\u001b[49m\u001b[43m)\u001b[49m\n\u001b[0;32m    336\u001b[0m \u001b[38;5;28;01mif\u001b[39;00m response\u001b[38;5;241m.\u001b[39mdata:\n\u001b[0;32m    337\u001b[0m     \u001b[38;5;28;01mtry\u001b[39;00m:\n",
      "File \u001b[1;32mc:\\Users\\arthu\\AppData\\Local\\Programs\\Python\\Python312\\Lib\\site-packages\\clickhouse_connect\\driver\\httpclient.py:437\u001b[0m, in \u001b[0;36mHttpClient._raw_request\u001b[1;34m(self, data, params, headers, method, retries, stream, server_wait, fields, error_handler)\u001b[0m\n\u001b[0;32m    435\u001b[0m     error_handler(response)\n\u001b[0;32m    436\u001b[0m \u001b[38;5;28;01melse\u001b[39;00m:\n\u001b[1;32m--> 437\u001b[0m     \u001b[38;5;28;43mself\u001b[39;49m\u001b[38;5;241;43m.\u001b[39;49m\u001b[43m_error_handler\u001b[49m\u001b[43m(\u001b[49m\u001b[43mresponse\u001b[49m\u001b[43m)\u001b[49m\n",
      "File \u001b[1;32mc:\\Users\\arthu\\AppData\\Local\\Programs\\Python\\Python312\\Lib\\site-packages\\clickhouse_connect\\driver\\httpclient.py:361\u001b[0m, in \u001b[0;36mHttpClient._error_handler\u001b[1;34m(self, response, retried)\u001b[0m\n\u001b[0;32m    359\u001b[0m     err_msg \u001b[38;5;241m=\u001b[39m common\u001b[38;5;241m.\u001b[39mformat_error(err_content\u001b[38;5;241m.\u001b[39mdecode(errors\u001b[38;5;241m=\u001b[39m\u001b[38;5;124m'\u001b[39m\u001b[38;5;124mbackslashreplace\u001b[39m\u001b[38;5;124m'\u001b[39m))\n\u001b[0;32m    360\u001b[0m     err_str \u001b[38;5;241m=\u001b[39m \u001b[38;5;124mf\u001b[39m\u001b[38;5;124m'\u001b[39m\u001b[38;5;124m:\u001b[39m\u001b[38;5;132;01m{\u001b[39;00merr_str\u001b[38;5;132;01m}\u001b[39;00m\u001b[38;5;130;01m\\n\u001b[39;00m\u001b[38;5;124m \u001b[39m\u001b[38;5;132;01m{\u001b[39;00merr_msg\u001b[38;5;132;01m}\u001b[39;00m\u001b[38;5;124m'\u001b[39m\n\u001b[1;32m--> 361\u001b[0m \u001b[38;5;28;01mraise\u001b[39;00m OperationalError(err_str) \u001b[38;5;28;01mif\u001b[39;00m retried \u001b[38;5;28;01melse\u001b[39;00m DatabaseError(err_str) \u001b[38;5;28;01mfrom\u001b[39;00m \u001b[38;5;28;01mNone\u001b[39;00m\n",
      "\u001b[1;31mDatabaseError\u001b[0m: :HTTPDriver for https://csi4142-clickhouse.mershab.xyz:443 returned response code 400)\n Code: 62. DB::Exception: Syntax error: failed at position 179 (')') (line 7, col 1): ) ENGINE = MergeTree()\n. Expected one of: lambda expression, CAST operator, NOT, INTERVAL, CASE, DATE, TIMESTAMP, tuple, collection of literals, array, number, literal, NULL, Bool, true, false, string literal, asterisk, qualified asterisk, compound identifier, list of elements, identifier, COLUMNS matcher, COLUMNS, qualified COLUMNS matcher, substitution, MySQL-style global variable. (SYNTAX_ERROR) (version 24.2.2.71 (official build))\n"
     ]
    }
   ],
   "source": [
    "# Check if table exists and create if it doesn't\n",
    "create_table_query = f\"\"\"\n",
    "CREATE TABLE IF NOT EXISTS {TABLE_NAME2} (\n",
    "        State         String,\n",
    "        Indicator     String,\n",
    "        Year          String,\n",
    "        Index         Float64\n",
    ") ENGINE = MergeTree()\n",
    "ORDER by Year\n",
    "\"\"\"\n",
    "\n",
    "#client.command(f'DROP TABLE IF EXISTS {TABLE_NAME}')\n",
    "client.command(create_table_query)"
   ]
  },
  {
   "cell_type": "code",
   "execution_count": 14,
   "metadata": {},
   "outputs": [
    {
     "ename": "DatabaseError",
     "evalue": ":HTTPDriver for https://csi4142-clickhouse.mershab.xyz:443 returned response code 400)\n Code: 62. DB::Exception: Syntax error: failed at position 135 ('Income') (line 4, col 26): Income in USD     UInt64,\n        State                             String\n) ENGINE = MergeTree()\nORDER BY State\n. Expected one of: COLLATE, NOT, NULL, DEFAULT, MATERIALIZED, ALIAS, EPHEMERAL, AUTO_INCREMENT, COMMENT, CODEC, STATISTIC, TTL, PRIMARY KEY, SETTINGS, token, Comma, ClosingRoundBracket. (SYNTAX_ERROR) (version 24.2.2.71 (official build))\n",
     "output_type": "error",
     "traceback": [
      "\u001b[1;31m---------------------------------------------------------------------------\u001b[0m",
      "\u001b[1;31mDatabaseError\u001b[0m                             Traceback (most recent call last)",
      "Cell \u001b[1;32mIn[14], line 10\u001b[0m\n\u001b[0;32m      1\u001b[0m create_table_query \u001b[38;5;241m=\u001b[39m \u001b[38;5;124mf\u001b[39m\u001b[38;5;124m\"\"\"\u001b[39m\n\u001b[0;32m      2\u001b[0m \u001b[38;5;124mCREATE TABLE IF NOT EXISTS \u001b[39m\u001b[38;5;132;01m{\u001b[39;00mTABLE_NAME2\u001b[38;5;132;01m}\u001b[39;00m\u001b[38;5;124m (\u001b[39m\n\u001b[0;32m      3\u001b[0m \u001b[38;5;124m        Year                               UInt32,\u001b[39m\n\u001b[1;32m   (...)\u001b[0m\n\u001b[0;32m      7\u001b[0m \u001b[38;5;124mORDER BY State\u001b[39m\n\u001b[0;32m      8\u001b[0m \u001b[38;5;124m\"\"\"\u001b[39m\n\u001b[1;32m---> 10\u001b[0m \u001b[43mclient\u001b[49m\u001b[38;5;241;43m.\u001b[39;49m\u001b[43mcommand\u001b[49m\u001b[43m(\u001b[49m\u001b[43mcreate_table_query\u001b[49m\u001b[43m)\u001b[49m\n",
      "File \u001b[1;32mc:\\Users\\arthu\\AppData\\Local\\Programs\\Python\\Python312\\Lib\\site-packages\\clickhouse_connect\\driver\\httpclient.py:335\u001b[0m, in \u001b[0;36mHttpClient.command\u001b[1;34m(self, cmd, parameters, data, settings, use_database, external_data)\u001b[0m\n\u001b[0;32m    332\u001b[0m params\u001b[38;5;241m.\u001b[39mupdate(\u001b[38;5;28mself\u001b[39m\u001b[38;5;241m.\u001b[39m_validate_settings(settings \u001b[38;5;129;01mor\u001b[39;00m {}))\n\u001b[0;32m    334\u001b[0m method \u001b[38;5;241m=\u001b[39m \u001b[38;5;124m'\u001b[39m\u001b[38;5;124mPOST\u001b[39m\u001b[38;5;124m'\u001b[39m \u001b[38;5;28;01mif\u001b[39;00m payload \u001b[38;5;129;01mor\u001b[39;00m fields \u001b[38;5;28;01melse\u001b[39;00m \u001b[38;5;124m'\u001b[39m\u001b[38;5;124mGET\u001b[39m\u001b[38;5;124m'\u001b[39m\n\u001b[1;32m--> 335\u001b[0m response \u001b[38;5;241m=\u001b[39m \u001b[38;5;28;43mself\u001b[39;49m\u001b[38;5;241;43m.\u001b[39;49m\u001b[43m_raw_request\u001b[49m\u001b[43m(\u001b[49m\u001b[43mpayload\u001b[49m\u001b[43m,\u001b[49m\u001b[43m \u001b[49m\u001b[43mparams\u001b[49m\u001b[43m,\u001b[49m\u001b[43m \u001b[49m\u001b[43mheaders\u001b[49m\u001b[43m,\u001b[49m\u001b[43m \u001b[49m\u001b[43mmethod\u001b[49m\u001b[43m,\u001b[49m\u001b[43m \u001b[49m\u001b[43mfields\u001b[49m\u001b[38;5;241;43m=\u001b[39;49m\u001b[43mfields\u001b[49m\u001b[43m)\u001b[49m\n\u001b[0;32m    336\u001b[0m \u001b[38;5;28;01mif\u001b[39;00m response\u001b[38;5;241m.\u001b[39mdata:\n\u001b[0;32m    337\u001b[0m     \u001b[38;5;28;01mtry\u001b[39;00m:\n",
      "File \u001b[1;32mc:\\Users\\arthu\\AppData\\Local\\Programs\\Python\\Python312\\Lib\\site-packages\\clickhouse_connect\\driver\\httpclient.py:437\u001b[0m, in \u001b[0;36mHttpClient._raw_request\u001b[1;34m(self, data, params, headers, method, retries, stream, server_wait, fields, error_handler)\u001b[0m\n\u001b[0;32m    435\u001b[0m     error_handler(response)\n\u001b[0;32m    436\u001b[0m \u001b[38;5;28;01melse\u001b[39;00m:\n\u001b[1;32m--> 437\u001b[0m     \u001b[38;5;28;43mself\u001b[39;49m\u001b[38;5;241;43m.\u001b[39;49m\u001b[43m_error_handler\u001b[49m\u001b[43m(\u001b[49m\u001b[43mresponse\u001b[49m\u001b[43m)\u001b[49m\n",
      "File \u001b[1;32mc:\\Users\\arthu\\AppData\\Local\\Programs\\Python\\Python312\\Lib\\site-packages\\clickhouse_connect\\driver\\httpclient.py:361\u001b[0m, in \u001b[0;36mHttpClient._error_handler\u001b[1;34m(self, response, retried)\u001b[0m\n\u001b[0;32m    359\u001b[0m     err_msg \u001b[38;5;241m=\u001b[39m common\u001b[38;5;241m.\u001b[39mformat_error(err_content\u001b[38;5;241m.\u001b[39mdecode(errors\u001b[38;5;241m=\u001b[39m\u001b[38;5;124m'\u001b[39m\u001b[38;5;124mbackslashreplace\u001b[39m\u001b[38;5;124m'\u001b[39m))\n\u001b[0;32m    360\u001b[0m     err_str \u001b[38;5;241m=\u001b[39m \u001b[38;5;124mf\u001b[39m\u001b[38;5;124m'\u001b[39m\u001b[38;5;124m:\u001b[39m\u001b[38;5;132;01m{\u001b[39;00merr_str\u001b[38;5;132;01m}\u001b[39;00m\u001b[38;5;130;01m\\n\u001b[39;00m\u001b[38;5;124m \u001b[39m\u001b[38;5;132;01m{\u001b[39;00merr_msg\u001b[38;5;132;01m}\u001b[39;00m\u001b[38;5;124m'\u001b[39m\n\u001b[1;32m--> 361\u001b[0m \u001b[38;5;28;01mraise\u001b[39;00m OperationalError(err_str) \u001b[38;5;28;01mif\u001b[39;00m retried \u001b[38;5;28;01melse\u001b[39;00m DatabaseError(err_str) \u001b[38;5;28;01mfrom\u001b[39;00m \u001b[38;5;28;01mNone\u001b[39;00m\n",
      "\u001b[1;31mDatabaseError\u001b[0m: :HTTPDriver for https://csi4142-clickhouse.mershab.xyz:443 returned response code 400)\n Code: 62. DB::Exception: Syntax error: failed at position 135 ('Income') (line 4, col 26): Income in USD     UInt64,\n        State                             String\n) ENGINE = MergeTree()\nORDER BY State\n. Expected one of: COLLATE, NOT, NULL, DEFAULT, MATERIALIZED, ALIAS, EPHEMERAL, AUTO_INCREMENT, COMMENT, CODEC, STATISTIC, TTL, PRIMARY KEY, SETTINGS, token, Comma, ClosingRoundBracket. (SYNTAX_ERROR) (version 24.2.2.71 (official build))\n"
     ]
    }
   ],
   "source": [
    "create_table_query = f\"\"\"\n",
    "CREATE TABLE IF NOT EXISTS {TABLE_NAME2} (\n",
    "        Year                               UInt32,\n",
    "        Median Household Income in USD     UInt64,\n",
    "        State                             String\n",
    ") ENGINE = MergeTree()\n",
    "ORDER BY State\n",
    "\"\"\"\n",
    "\n",
    "client.command(create_table_query)"
   ]
  }
 ],
 "metadata": {
  "kernelspec": {
   "display_name": "Python 3",
   "language": "python",
   "name": "python3"
  },
  "language_info": {
   "codemirror_mode": {
    "name": "ipython",
    "version": 3
   },
   "file_extension": ".py",
   "mimetype": "text/x-python",
   "name": "python",
   "nbconvert_exporter": "python",
   "pygments_lexer": "ipython3",
   "version": "3.12.2"
  }
 },
 "nbformat": 4,
 "nbformat_minor": 2
}
