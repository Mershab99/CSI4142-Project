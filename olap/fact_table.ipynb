{
 "cells": [
  {
   "cell_type": "code",
   "execution_count": null,
   "metadata": {},
   "outputs": [],
   "source": [
    "!pip install -r requirements.txt"
   ]
  },
  {
   "cell_type": "code",
   "execution_count": null,
   "metadata": {},
   "outputs": [],
   "source": [
    "import pandas as pd\n",
    "import clickhouse_connect\n",
    "\n",
    "pd.options.display.max_columns = None\n",
    "pd.options.display.max_rows = None\n",
    "pd.options.display.width = None\n",
    "pd.set_option('display.max_rows', 100)\n",
    "pd.set_option('display.min_rows', 20)"
   ]
  },
  {
   "cell_type": "code",
   "execution_count": null,
   "metadata": {},
   "outputs": [],
   "source": [
    "CLICKHOUSE_CLOUD_HOSTNAME = 'csi4142-clickhouse.mershab.xyz'\n",
    "CLICKHOUSE_CLOUD_USER = 'csi'\n",
    "CLICKHOUSE_CLOUD_PASSWORD = 'iceberg'\n",
    "\n",
    "FACT_TABLE_NAME = \"fact_table\""
   ]
  },
  {
   "cell_type": "code",
   "execution_count": null,
   "metadata": {},
   "outputs": [],
   "source": [
    "client = clickhouse_connect.get_client(host=CLICKHOUSE_CLOUD_HOSTNAME, port=443, user=CLICKHOUSE_CLOUD_USER, password=CLICKHOUSE_CLOUD_PASSWORD,database='default')\n",
    "print(client.ping())\n",
    "print(\"connected to \" + CLICKHOUSE_CLOUD_HOSTNAME + \"\\n\")\n"
   ]
  },
  {
   "cell_type": "code",
   "execution_count": null,
   "metadata": {},
   "outputs": [],
   "source": [
    "# Check if table exists and create if it doesn't\n",
    "create_table_query = f\"\"\"\n",
    "CREATE TABLE IF NOT EXISTS {FACT_TABLE_NAME} (\n",
    "    ticker String,\n",
    "    median_worker_pay Float64,\n",
    "    stock_price Float64,\n",
    "    pay_ratio String,\n",
    "    CEO String,\n",
    "    ceo_pay Float64,\n",
    "    cost_of_living Float64,\n",
    "    company String,\n",
    "    year String,\n",
    "    state String,\n",
    ") ENGINE = MergeTree()\n",
    "ORDER BY year \n",
    "\"\"\"\n",
    "\n",
    "#client.command(f'DROP TABLE IF EXISTS {TABLE_NAME}')\n",
    "client.command(create_table_query)"
   ]
  },
  {
   "cell_type": "code",
   "execution_count": null,
   "metadata": {},
   "outputs": [],
   "source": [
    "\n",
    "company_df = client.query_df(f'SELECT * FROM company_dimension_table_test')\n",
    "company_df.head(10)\n"
   ]
  },
  {
   "cell_type": "code",
   "execution_count": null,
   "metadata": {},
   "outputs": [],
   "source": [
    "# Convert 'date' from string to datetime\n",
    "company_df['date'] = pd.to_datetime(company_df['datetime'])\n",
    "\n",
    "# Extracting year from date\n",
    "company_df['year'] = company_df['date'].dt.year\n",
    "\n",
    "# Group by ticker and year, then calculate mean price\n",
    "df_yearly_avg = company_df.groupby(['ticker', 'year'])['close'].mean().reset_index()\n",
    "\n",
    "print(df_yearly_avg)"
   ]
  },
  {
   "cell_type": "code",
   "execution_count": null,
   "metadata": {},
   "outputs": [],
   "source": [
    "\n",
    "ceo_df = client.query_df(f'SELECT * FROM ceo_dimension_table_test')\n",
    "ceo_df['ticker'] = ceo_df['Ticker']\n",
    "ceo_df['year'] = ceo_df['Year']\n",
    "\n",
    "ceo_df.head(10)\n"
   ]
  },
  {
   "cell_type": "code",
   "execution_count": null,
   "metadata": {},
   "outputs": [],
   "source": [
    "\n",
    "col_df = client.query_df(f\"\"\"SELECT * FROM cost_of_living_dimension_table_test WHERE Indicator = 'Cost of Living Index'\"\"\")\n",
    "col_df['year'] = col_df['Year']\n",
    "col_df"
   ]
  },
  {
   "cell_type": "code",
   "execution_count": null,
   "metadata": {},
   "outputs": [],
   "source": [
    "# Joining df_yearly_avg with df_yearly on ticker and year\n",
    "df_joined = pd.merge(df_yearly_avg, ceo_df, on=['ticker', 'year'], how='inner')\n",
    "df_joined = pd.merge(df_joined, col_df, on=['year'], how='inner')\n",
    "df_joined"
   ]
  },
  {
   "cell_type": "code",
   "execution_count": null,
   "metadata": {},
   "outputs": [],
   "source": [
    "df_joined['stock_price'] = df_joined['close']\n",
    "df_joined['pay_ratio'] = df_joined['Pay_Ratio']\n",
    "df_joined['median_worker_pay'] = df_joined['Median_Worker_Pay']\n",
    "df_joined['ceo_pay'] = df_joined['CEO_Pay']\n",
    "df_joined['company'] = df_joined['Company']\n",
    "df_joined['cost_of_living'] = df_joined['Cost_of_Living_Index']\n",
    "\n",
    "df_joined['year'] = df_joined['Year_x']\n",
    "df_joined['state'] = df_joined['State']\n",
    "df_joined['year'] = df_joined['year'].astype(str)\n",
    "\n",
    "# Drop unwanted columns\n",
    "df_fact_table = df_joined.drop(columns=['Year_y','Year_x', 'Ticker', 'close', 'Median_Worker_Pay', 'Pay_Ratio', 'CEO_Pay', 'Company', 'State', 'Indicator', 'Cost_of_Living_Index'])\n",
    "print(df_fact_table)"
   ]
  },
  {
   "cell_type": "code",
   "execution_count": null,
   "metadata": {},
   "outputs": [],
   "source": [
    "df_fact_table.dtypes"
   ]
  },
  {
   "cell_type": "code",
   "execution_count": null,
   "metadata": {},
   "outputs": [],
   "source": [
    "client.insert_df(FACT_TABLE_NAME, df_fact_table)"
   ]
  },
  {
   "cell_type": "code",
   "execution_count": null,
   "metadata": {},
   "outputs": [],
   "source": [
    "result_df = client.query_df(f'SELECT * FROM {FACT_TABLE_NAME}')\n",
    "result_df"
   ]
  }
 ],
 "metadata": {
  "kernelspec": {
   "display_name": ".venv",
   "language": "python",
   "name": "python3"
  },
  "language_info": {
   "codemirror_mode": {
    "name": "ipython",
    "version": 3
   },
   "file_extension": ".py",
   "mimetype": "text/x-python",
   "name": "python",
   "nbconvert_exporter": "python",
   "pygments_lexer": "ipython3",
   "version": "3.11.8"
  }
 },
 "nbformat": 4,
 "nbformat_minor": 2
}
