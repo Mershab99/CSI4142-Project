{
 "cells": [
  {
   "cell_type": "code",
   "execution_count": 3,
   "metadata": {},
   "outputs": [
    {
     "name": "stdout",
     "output_type": "stream",
     "text": [
      "Requirement already satisfied: pandas==2.0.3 in /Users/mershab/Code/Projects/CSI4142-Project/.venv/lib/python3.11/site-packages (from -r requirements.txt (line 1)) (2.0.3)\n",
      "Requirement already satisfied: matplotlib in /Users/mershab/Code/Projects/CSI4142-Project/.venv/lib/python3.11/site-packages (from -r requirements.txt (line 2)) (3.8.3)\n",
      "Requirement already satisfied: clickhouse_driver in /Users/mershab/Code/Projects/CSI4142-Project/.venv/lib/python3.11/site-packages (from -r requirements.txt (line 3)) (0.2.7)\n",
      "Requirement already satisfied: numpy in /Users/mershab/Code/Projects/CSI4142-Project/.venv/lib/python3.11/site-packages (from -r requirements.txt (line 4)) (1.26.4)\n",
      "Requirement already satisfied: requests in /Users/mershab/Code/Projects/CSI4142-Project/.venv/lib/python3.11/site-packages (from -r requirements.txt (line 5)) (2.31.0)\n",
      "Requirement already satisfied: python-dateutil>=2.8.2 in /Users/mershab/Code/Projects/CSI4142-Project/.venv/lib/python3.11/site-packages (from pandas==2.0.3->-r requirements.txt (line 1)) (2.9.0.post0)\n",
      "Requirement already satisfied: pytz>=2020.1 in /Users/mershab/Code/Projects/CSI4142-Project/.venv/lib/python3.11/site-packages (from pandas==2.0.3->-r requirements.txt (line 1)) (2024.1)\n",
      "Requirement already satisfied: tzdata>=2022.1 in /Users/mershab/Code/Projects/CSI4142-Project/.venv/lib/python3.11/site-packages (from pandas==2.0.3->-r requirements.txt (line 1)) (2024.1)\n",
      "Requirement already satisfied: contourpy>=1.0.1 in /Users/mershab/Code/Projects/CSI4142-Project/.venv/lib/python3.11/site-packages (from matplotlib->-r requirements.txt (line 2)) (1.2.0)\n",
      "Requirement already satisfied: cycler>=0.10 in /Users/mershab/Code/Projects/CSI4142-Project/.venv/lib/python3.11/site-packages (from matplotlib->-r requirements.txt (line 2)) (0.12.1)\n",
      "Requirement already satisfied: fonttools>=4.22.0 in /Users/mershab/Code/Projects/CSI4142-Project/.venv/lib/python3.11/site-packages (from matplotlib->-r requirements.txt (line 2)) (4.50.0)\n",
      "Requirement already satisfied: kiwisolver>=1.3.1 in /Users/mershab/Code/Projects/CSI4142-Project/.venv/lib/python3.11/site-packages (from matplotlib->-r requirements.txt (line 2)) (1.4.5)\n",
      "Requirement already satisfied: packaging>=20.0 in /Users/mershab/Code/Projects/CSI4142-Project/.venv/lib/python3.11/site-packages (from matplotlib->-r requirements.txt (line 2)) (24.0)\n",
      "Requirement already satisfied: pillow>=8 in /Users/mershab/Code/Projects/CSI4142-Project/.venv/lib/python3.11/site-packages (from matplotlib->-r requirements.txt (line 2)) (10.2.0)\n",
      "Requirement already satisfied: pyparsing>=2.3.1 in /Users/mershab/Code/Projects/CSI4142-Project/.venv/lib/python3.11/site-packages (from matplotlib->-r requirements.txt (line 2)) (3.1.2)\n",
      "Requirement already satisfied: tzlocal in /Users/mershab/Code/Projects/CSI4142-Project/.venv/lib/python3.11/site-packages (from clickhouse_driver->-r requirements.txt (line 3)) (5.2)\n",
      "Requirement already satisfied: charset-normalizer<4,>=2 in /Users/mershab/Code/Projects/CSI4142-Project/.venv/lib/python3.11/site-packages (from requests->-r requirements.txt (line 5)) (3.3.2)\n",
      "Requirement already satisfied: idna<4,>=2.5 in /Users/mershab/Code/Projects/CSI4142-Project/.venv/lib/python3.11/site-packages (from requests->-r requirements.txt (line 5)) (3.6)\n",
      "Requirement already satisfied: urllib3<3,>=1.21.1 in /Users/mershab/Code/Projects/CSI4142-Project/.venv/lib/python3.11/site-packages (from requests->-r requirements.txt (line 5)) (2.2.1)\n",
      "Requirement already satisfied: certifi>=2017.4.17 in /Users/mershab/Code/Projects/CSI4142-Project/.venv/lib/python3.11/site-packages (from requests->-r requirements.txt (line 5)) (2024.2.2)\n",
      "Requirement already satisfied: six>=1.5 in /Users/mershab/Code/Projects/CSI4142-Project/.venv/lib/python3.11/site-packages (from python-dateutil>=2.8.2->pandas==2.0.3->-r requirements.txt (line 1)) (1.16.0)\n"
     ]
    }
   ],
   "source": [
    "!pip install -r requirements.txt"
   ]
  },
  {
   "cell_type": "code",
   "execution_count": 4,
   "metadata": {},
   "outputs": [],
   "source": [
    "import pandas as pd\n",
    "import clickhouse_connect\n",
    "\n",
    "pd.options.display.max_columns = None\n",
    "pd.options.display.max_rows = None\n",
    "pd.options.display.width = None\n",
    "pd.set_option('display.max_rows', 100)\n",
    "pd.set_option('display.min_rows', 20)"
   ]
  },
  {
   "cell_type": "code",
   "execution_count": 5,
   "metadata": {},
   "outputs": [],
   "source": [
    "CLICKHOUSE_CLOUD_HOSTNAME = 'csi4142-clickhouse.mershab.xyz'\n",
    "CLICKHOUSE_CLOUD_USER = 'csi'\n",
    "CLICKHOUSE_CLOUD_PASSWORD = 'iceberg'"
   ]
  },
  {
   "cell_type": "code",
   "execution_count": 6,
   "metadata": {},
   "outputs": [
    {
     "name": "stdout",
     "output_type": "stream",
     "text": [
      "True\n",
      "connected to csi4142-clickhouse.mershab.xyz\n",
      "\n"
     ]
    },
    {
     "ename": "NameError",
     "evalue": "name 'TABLE_NAME' is not defined",
     "output_type": "error",
     "traceback": [
      "\u001b[0;31m---------------------------------------------------------------------------\u001b[0m",
      "\u001b[0;31mNameError\u001b[0m                                 Traceback (most recent call last)",
      "Cell \u001b[0;32mIn[6], line 7\u001b[0m\n\u001b[1;32m      3\u001b[0m \u001b[38;5;28mprint\u001b[39m(\u001b[38;5;124m\"\u001b[39m\u001b[38;5;124mconnected to \u001b[39m\u001b[38;5;124m\"\u001b[39m \u001b[38;5;241m+\u001b[39m CLICKHOUSE_CLOUD_HOSTNAME \u001b[38;5;241m+\u001b[39m \u001b[38;5;124m\"\u001b[39m\u001b[38;5;130;01m\\n\u001b[39;00m\u001b[38;5;124m\"\u001b[39m)\n\u001b[1;32m      5\u001b[0m \u001b[38;5;66;03m# Check if table exists and create if it doesn't\u001b[39;00m\n\u001b[1;32m      6\u001b[0m create_table_query \u001b[38;5;241m=\u001b[39m \u001b[38;5;124mf\u001b[39m\u001b[38;5;124m\"\"\"\u001b[39m\n\u001b[0;32m----> 7\u001b[0m \u001b[38;5;124mCREATE TABLE IF NOT EXISTS \u001b[39m\u001b[38;5;132;01m{\u001b[39;00m\u001b[43mTABLE_NAME\u001b[49m\u001b[38;5;132;01m}\u001b[39;00m\u001b[38;5;124m (\u001b[39m\n\u001b[1;32m      8\u001b[0m \u001b[38;5;124m    datetime String,\u001b[39m\n\u001b[1;32m      9\u001b[0m \u001b[38;5;124m    open Float64,\u001b[39m\n\u001b[1;32m     10\u001b[0m \u001b[38;5;124m    high Float64,\u001b[39m\n\u001b[1;32m     11\u001b[0m \u001b[38;5;124m    low Float64,\u001b[39m\n\u001b[1;32m     12\u001b[0m \u001b[38;5;124m    close Float64,\u001b[39m\n\u001b[1;32m     13\u001b[0m \u001b[38;5;124m    volume UInt64,\u001b[39m\n\u001b[1;32m     14\u001b[0m \u001b[38;5;124m    ticker String\u001b[39m\n\u001b[1;32m     15\u001b[0m \u001b[38;5;124m) ENGINE = MergeTree()\u001b[39m\n\u001b[1;32m     16\u001b[0m \u001b[38;5;124mORDER BY datetime\u001b[39m\n\u001b[1;32m     17\u001b[0m \u001b[38;5;124m\"\"\"\u001b[39m\n\u001b[1;32m     19\u001b[0m \u001b[38;5;66;03m#client.command(f'DROP TABLE IF EXISTS {TABLE_NAME}')\u001b[39;00m\n\u001b[1;32m     20\u001b[0m client\u001b[38;5;241m.\u001b[39mcommand(create_table_query)\n",
      "\u001b[0;31mNameError\u001b[0m: name 'TABLE_NAME' is not defined"
     ]
    }
   ],
   "source": [
    "client = clickhouse_connect.get_client(host=CLICKHOUSE_CLOUD_HOSTNAME, port=443, user=CLICKHOUSE_CLOUD_USER, password=CLICKHOUSE_CLOUD_PASSWORD,database='default')\n",
    "print(client.ping())\n",
    "print(\"connected to \" + CLICKHOUSE_CLOUD_HOSTNAME + \"\\n\")\n",
    "\n",
    "# Check if table exists and create if it doesn't\n",
    "create_table_query = f\"\"\"\n",
    "CREATE TABLE IF NOT EXISTS {TABLE_NAME} (\n",
    "    datetime String,\n",
    "    open Float64,\n",
    "    high Float64,\n",
    "    low Float64,\n",
    "    close Float64,\n",
    "    volume UInt64,\n",
    "    ticker String\n",
    ") ENGINE = MergeTree()\n",
    "ORDER BY datetime\n",
    "\"\"\"\n",
    "\n",
    "#client.command(f'DROP TABLE IF EXISTS {TABLE_NAME}')\n",
    "client.command(create_table_query)"
   ]
  },
  {
   "cell_type": "code",
   "execution_count": null,
   "metadata": {},
   "outputs": [],
   "source": [
    "insert_command = f\"\"\"\n",
    "INSERT INTO fact_company_ceo_pay (ticker, CEO, CEO_Pay, Median_Worker_Pay, Pay_Ratio, stock_value)\n",
    "SELECT\n",
    "    c.ticker,\n",
    "    ceo.CEO,\n",
    "    ceo.CEO_Pay,\n",
    "    ceo.Median_Worker_Pay,\n",
    "    ceo.Pay_Ratio,\n",
    "    c.open as stock_value\n",
    "FROM\n",
    "    company_dimension_table_test c\n",
    "JOIN\n",
    "    ceo_dimension_table_test ceo ON c.ticker = ceo.Ticker; -- Adjust this join condition as necessary.\n",
    "\n",
    "\"\"\""
   ]
  },
  {
   "cell_type": "code",
   "execution_count": 8,
   "metadata": {},
   "outputs": [
    {
     "data": {
      "text/plain": [
       "{'read_rows': '0',\n",
       " 'read_bytes': '0',\n",
       " 'written_rows': '0',\n",
       " 'written_bytes': '0',\n",
       " 'total_rows_to_read': '0',\n",
       " 'result_rows': '0',\n",
       " 'result_bytes': '0',\n",
       " 'elapsed_ns': '1866712'}"
      ]
     },
     "execution_count": 8,
     "metadata": {},
     "output_type": "execute_result"
    }
   ],
   "source": [
    "result_df = client.query(f'SELECT * FROM fact_company_ceo_pay')\n",
    "result_df.summary"
   ]
  }
 ],
 "metadata": {
  "kernelspec": {
   "display_name": ".venv",
   "language": "python",
   "name": "python3"
  },
  "language_info": {
   "codemirror_mode": {
    "name": "ipython",
    "version": 3
   },
   "file_extension": ".py",
   "mimetype": "text/x-python",
   "name": "python",
   "nbconvert_exporter": "python",
   "pygments_lexer": "ipython3",
   "version": "3.11.8"
  }
 },
 "nbformat": 4,
 "nbformat_minor": 2
}
